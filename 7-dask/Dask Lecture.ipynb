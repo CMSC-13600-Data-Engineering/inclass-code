{
 "cells": [
  {
   "cell_type": "markdown",
   "metadata": {},
   "source": [
    "# Python Dask\n",
    "\n",
    "For those of you that are familiar with Pandas, Dask is simply a scalable framework that wraps around libraries like Pandas. A Dask DataFrame is a large parallel DataFrame composed of many smaller Pandas DataFrames, split along the index. These Pandas DataFrames may live on disk for larger-than-memory computing on a single machine, or on many different machines in a cluster. One Dask DataFrame operation triggers many operations on the constituent Pandas DataFrames.In this lecture, we're going to deep dive into using Dask and apply what we've learned in previous lectures to understand why the code works the way that it does.\n",
    "\n",
    "## Getting Started\n",
    "First, we are going import a dask dataframe. We start very similar to the way that we start with Pandas "
   ]
  },
  {
   "cell_type": "code",
   "execution_count": 57,
   "metadata": {},
   "outputs": [],
   "source": [
    "import dask.dataframe as dd"
   ]
  },
  {
   "cell_type": "markdown",
   "metadata": {},
   "source": [
    "Let's now download some data for us to analyze. We will download New York's Taxi data from the first few months of 2020.\n",
    "\n",
    "```\n",
    "https://nyc-tlc.s3.amazonaws.com/trip+data/fhvhv_tripdata_2020-01.csv\n",
    "https://nyc-tlc.s3.amazonaws.com/trip+data/fhvhv_tripdata_2020-02.csv\n",
    "https://nyc-tlc.s3.amazonaws.com/trip+data/fhvhv_tripdata_2020-03.csv\n",
    "https://nyc-tlc.s3.amazonaws.com/trip+data/fhvhv_tripdata_2020-04.csv\n",
    "https://nyc-tlc.s3.amazonaws.com/trip+data/fhvhv_tripdata_2020-05.csv\n",
    "https://nyc-tlc.s3.amazonaws.com/trip+data/fhvhv_tripdata_2020-06.csv\n",
    "```\n",
    "Here's a little trick that you should learn, you can download files directly from the command line using the wget command."
   ]
  },
  {
   "cell_type": "code",
   "execution_count": 5,
   "metadata": {},
   "outputs": [
    {
     "name": "stdout",
     "output_type": "stream",
     "text": [
      "--2022-05-11 09:33:29--  https://nyc-tlc.s3.amazonaws.com/trip+data/fhvhv_tripdata_2020-01.csv\n",
      "Resolving nyc-tlc.s3.amazonaws.com (nyc-tlc.s3.amazonaws.com)... 52.217.192.73\n",
      "Connecting to nyc-tlc.s3.amazonaws.com (nyc-tlc.s3.amazonaws.com)|52.217.192.73|:443... connected.\n",
      "HTTP request sent, awaiting response... 200 OK\n",
      "Length: 1303901601 (1.2G) [text/csv]\n",
      "Saving to: ‘fhvhv_tripdata_2020-01.csv’\n",
      "\n",
      "fhvhv_tripdata_2020 100%[===================>]   1.21G  9.26MB/s    in 79s     \n",
      "\n",
      "2022-05-11 09:34:48 (15.8 MB/s) - ‘fhvhv_tripdata_2020-01.csv’ saved [1303901601/1303901601]\n",
      "\n"
     ]
    }
   ],
   "source": [
    "! wget https://nyc-tlc.s3.amazonaws.com/trip+data/fhvhv_tripdata_2020-01.csv"
   ]
  },
  {
   "cell_type": "code",
   "execution_count": 6,
   "metadata": {},
   "outputs": [
    {
     "name": "stdout",
     "output_type": "stream",
     "text": [
      "--2022-05-11 09:37:27--  https://nyc-tlc.s3.amazonaws.com/trip+data/fhvhv_tripdata_2020-02.csv\n",
      "Resolving nyc-tlc.s3.amazonaws.com (nyc-tlc.s3.amazonaws.com)... 52.216.245.12\n",
      "Connecting to nyc-tlc.s3.amazonaws.com (nyc-tlc.s3.amazonaws.com)|52.216.245.12|:443... connected.\n",
      "HTTP request sent, awaiting response... 200 OK\n",
      "Length: 1377036387 (1.3G) [text/csv]\n",
      "Saving to: ‘fhvhv_tripdata_2020-02.csv’\n",
      "\n",
      "fhvhv_tripdata_2020 100%[===================>]   1.28G  11.0MB/s    in 88s     \n",
      "\n",
      "2022-05-11 09:38:54 (15.0 MB/s) - ‘fhvhv_tripdata_2020-02.csv’ saved [1377036387/1377036387]\n",
      "\n",
      "--2022-05-11 09:38:55--  https://nyc-tlc.s3.amazonaws.com/trip+data/fhvhv_tripdata_2020-03.csv\n",
      "Resolving nyc-tlc.s3.amazonaws.com (nyc-tlc.s3.amazonaws.com)... 52.216.9.195\n",
      "Connecting to nyc-tlc.s3.amazonaws.com (nyc-tlc.s3.amazonaws.com)|52.216.9.195|:443... connected.\n",
      "HTTP request sent, awaiting response... 200 OK\n",
      "Length: 847836327 (809M) [text/csv]\n",
      "Saving to: ‘fhvhv_tripdata_2020-03.csv’\n",
      "\n",
      "fhvhv_tripdata_2020 100%[===================>] 808.56M  17.1MB/s    in 50s     \n",
      "\n",
      "2022-05-11 09:39:45 (16.0 MB/s) - ‘fhvhv_tripdata_2020-03.csv’ saved [847836327/847836327]\n",
      "\n",
      "--2022-05-11 09:39:46--  https://nyc-tlc.s3.amazonaws.com/trip+data/fhvhv_tripdata_2020-04.csv\n",
      "Resolving nyc-tlc.s3.amazonaws.com (nyc-tlc.s3.amazonaws.com)... 54.231.163.17\n",
      "Connecting to nyc-tlc.s3.amazonaws.com (nyc-tlc.s3.amazonaws.com)|54.231.163.17|:443... connected.\n",
      "HTTP request sent, awaiting response... 200 OK\n",
      "Length: 272190006 (260M) [text/csv]\n",
      "Saving to: ‘fhvhv_tripdata_2020-04.csv’\n",
      "\n",
      "fhvhv_tripdata_2020 100%[===================>] 259.58M  13.7MB/s    in 21s     \n",
      "\n",
      "2022-05-11 09:40:07 (12.5 MB/s) - ‘fhvhv_tripdata_2020-04.csv’ saved [272190006/272190006]\n",
      "\n",
      "--2022-05-11 09:40:07--  https://nyc-tlc.s3.amazonaws.com/trip+data/fhvhv_tripdata_2020-05.csv\n",
      "Resolving nyc-tlc.s3.amazonaws.com (nyc-tlc.s3.amazonaws.com)... 54.231.136.113\n",
      "Connecting to nyc-tlc.s3.amazonaws.com (nyc-tlc.s3.amazonaws.com)|54.231.136.113|:443... connected.\n",
      "HTTP request sent, awaiting response... 200 OK\n",
      "Length: 384348144 (367M) [text/csv]\n",
      "Saving to: ‘fhvhv_tripdata_2020-05.csv’\n",
      "\n",
      "fhvhv_tripdata_2020 100%[===================>] 366.54M  17.0MB/s    in 25s     \n",
      "\n",
      "2022-05-11 09:40:32 (14.5 MB/s) - ‘fhvhv_tripdata_2020-05.csv’ saved [384348144/384348144]\n",
      "\n",
      "--2022-05-11 09:40:33--  https://nyc-tlc.s3.amazonaws.com/trip+data/fhvhv_tripdata_2020-06.csv\n",
      "Resolving nyc-tlc.s3.amazonaws.com (nyc-tlc.s3.amazonaws.com)... 52.217.161.97\n",
      "Connecting to nyc-tlc.s3.amazonaws.com (nyc-tlc.s3.amazonaws.com)|52.217.161.97|:443... connected.\n",
      "HTTP request sent, awaiting response... 200 OK\n",
      "Length: 476680188 (455M) [text/csv]\n",
      "Saving to: ‘fhvhv_tripdata_2020-06.csv’\n",
      "\n",
      "fhvhv_tripdata_2020 100%[===================>] 454.60M  16.9MB/s    in 30s     \n",
      "\n",
      "2022-05-11 09:41:03 (15.2 MB/s) - ‘fhvhv_tripdata_2020-06.csv’ saved [476680188/476680188]\n",
      "\n"
     ]
    }
   ],
   "source": [
    "! wget https://nyc-tlc.s3.amazonaws.com/trip+data/fhvhv_tripdata_2020-02.csv\n",
    "! wget https://nyc-tlc.s3.amazonaws.com/trip+data/fhvhv_tripdata_2020-03.csv\n",
    "! wget https://nyc-tlc.s3.amazonaws.com/trip+data/fhvhv_tripdata_2020-04.csv\n",
    "! wget https://nyc-tlc.s3.amazonaws.com/trip+data/fhvhv_tripdata_2020-05.csv\n",
    "! wget https://nyc-tlc.s3.amazonaws.com/trip+data/fhvhv_tripdata_2020-06.csv"
   ]
  },
  {
   "cell_type": "markdown",
   "metadata": {},
   "source": [
    "Now, let's load some data into this notebook."
   ]
  },
  {
   "cell_type": "code",
   "execution_count": 58,
   "metadata": {},
   "outputs": [
    {
     "data": {
      "text/html": [
       "<div>\n",
       "<style scoped>\n",
       "    .dataframe tbody tr th:only-of-type {\n",
       "        vertical-align: middle;\n",
       "    }\n",
       "\n",
       "    .dataframe tbody tr th {\n",
       "        vertical-align: top;\n",
       "    }\n",
       "\n",
       "    .dataframe thead th {\n",
       "        text-align: right;\n",
       "    }\n",
       "</style>\n",
       "<table border=\"1\" class=\"dataframe\">\n",
       "  <thead>\n",
       "    <tr style=\"text-align: right;\">\n",
       "      <th></th>\n",
       "      <th>hvfhs_license_num</th>\n",
       "      <th>dispatching_base_num</th>\n",
       "      <th>pickup_datetime</th>\n",
       "      <th>dropoff_datetime</th>\n",
       "      <th>PULocationID</th>\n",
       "      <th>DOLocationID</th>\n",
       "      <th>SR_Flag</th>\n",
       "    </tr>\n",
       "  </thead>\n",
       "  <tbody>\n",
       "    <tr>\n",
       "      <th>0</th>\n",
       "      <td>HV0003</td>\n",
       "      <td>B02864</td>\n",
       "      <td>2020-01-01 00:45:34</td>\n",
       "      <td>2020-01-01 01:02:20</td>\n",
       "      <td>148</td>\n",
       "      <td>90</td>\n",
       "      <td>NaN</td>\n",
       "    </tr>\n",
       "    <tr>\n",
       "      <th>1</th>\n",
       "      <td>HV0003</td>\n",
       "      <td>B02682</td>\n",
       "      <td>2020-01-01 00:47:50</td>\n",
       "      <td>2020-01-01 00:53:23</td>\n",
       "      <td>114</td>\n",
       "      <td>79</td>\n",
       "      <td>NaN</td>\n",
       "    </tr>\n",
       "    <tr>\n",
       "      <th>2</th>\n",
       "      <td>HV0003</td>\n",
       "      <td>B02764</td>\n",
       "      <td>2020-01-01 00:04:37</td>\n",
       "      <td>2020-01-01 00:21:49</td>\n",
       "      <td>4</td>\n",
       "      <td>125</td>\n",
       "      <td>NaN</td>\n",
       "    </tr>\n",
       "    <tr>\n",
       "      <th>3</th>\n",
       "      <td>HV0003</td>\n",
       "      <td>B02764</td>\n",
       "      <td>2020-01-01 00:26:36</td>\n",
       "      <td>2020-01-01 00:33:00</td>\n",
       "      <td>231</td>\n",
       "      <td>113</td>\n",
       "      <td>NaN</td>\n",
       "    </tr>\n",
       "    <tr>\n",
       "      <th>4</th>\n",
       "      <td>HV0003</td>\n",
       "      <td>B02764</td>\n",
       "      <td>2020-01-01 00:37:49</td>\n",
       "      <td>2020-01-01 00:46:59</td>\n",
       "      <td>114</td>\n",
       "      <td>144</td>\n",
       "      <td>NaN</td>\n",
       "    </tr>\n",
       "  </tbody>\n",
       "</table>\n",
       "</div>"
      ],
      "text/plain": [
       "  hvfhs_license_num dispatching_base_num      pickup_datetime  \\\n",
       "0            HV0003               B02864  2020-01-01 00:45:34   \n",
       "1            HV0003               B02682  2020-01-01 00:47:50   \n",
       "2            HV0003               B02764  2020-01-01 00:04:37   \n",
       "3            HV0003               B02764  2020-01-01 00:26:36   \n",
       "4            HV0003               B02764  2020-01-01 00:37:49   \n",
       "\n",
       "      dropoff_datetime  PULocationID  DOLocationID  SR_Flag  \n",
       "0  2020-01-01 01:02:20           148            90      NaN  \n",
       "1  2020-01-01 00:53:23           114            79      NaN  \n",
       "2  2020-01-01 00:21:49             4           125      NaN  \n",
       "3  2020-01-01 00:33:00           231           113      NaN  \n",
       "4  2020-01-01 00:46:59           114           144      NaN  "
      ]
     },
     "execution_count": 58,
     "metadata": {},
     "output_type": "execute_result"
    }
   ],
   "source": [
    "df = dd.read_csv('tripdata/fhvhv_tripdata_2020-01.csv')\n",
    "df.head()"
   ]
  },
  {
   "cell_type": "markdown",
   "metadata": {},
   "source": [
    "Let's do some basic analysis, how many rows are there in this dataset?"
   ]
  },
  {
   "cell_type": "code",
   "execution_count": 38,
   "metadata": {},
   "outputs": [
    {
     "name": "stdout",
     "output_type": "stream",
     "text": [
      "CPU times: user 30.9 s, sys: 5.32 s, total: 36.3 s\n",
      "Wall time: 23 s\n"
     ]
    },
    {
     "data": {
      "text/plain": [
       "20569325"
      ]
     },
     "execution_count": 38,
     "metadata": {},
     "output_type": "execute_result"
    }
   ],
   "source": [
    "%time  len(df) #why does this take longer than loading"
   ]
  },
  {
   "cell_type": "markdown",
   "metadata": {},
   "source": [
    "Why does this take longer than loading? Systems like Dask are often designed to load very large amounts of data from different files. For example, we can run code that looks like this:"
   ]
  },
  {
   "cell_type": "code",
   "execution_count": 131,
   "metadata": {},
   "outputs": [
    {
     "data": {
      "text/html": [
       "<div>\n",
       "<style scoped>\n",
       "    .dataframe tbody tr th:only-of-type {\n",
       "        vertical-align: middle;\n",
       "    }\n",
       "\n",
       "    .dataframe tbody tr th {\n",
       "        vertical-align: top;\n",
       "    }\n",
       "\n",
       "    .dataframe thead th {\n",
       "        text-align: right;\n",
       "    }\n",
       "</style>\n",
       "<table border=\"1\" class=\"dataframe\">\n",
       "  <thead>\n",
       "    <tr style=\"text-align: right;\">\n",
       "      <th></th>\n",
       "      <th>hvfhs_license_num</th>\n",
       "      <th>dispatching_base_num</th>\n",
       "      <th>pickup_datetime</th>\n",
       "      <th>dropoff_datetime</th>\n",
       "      <th>PULocationID</th>\n",
       "      <th>DOLocationID</th>\n",
       "      <th>SR_Flag</th>\n",
       "    </tr>\n",
       "  </thead>\n",
       "  <tbody>\n",
       "    <tr>\n",
       "      <th>0</th>\n",
       "      <td>HV0003</td>\n",
       "      <td>B02864</td>\n",
       "      <td>2020-01-01 00:45:34</td>\n",
       "      <td>2020-01-01 01:02:20</td>\n",
       "      <td>148</td>\n",
       "      <td>90</td>\n",
       "      <td>NaN</td>\n",
       "    </tr>\n",
       "    <tr>\n",
       "      <th>1</th>\n",
       "      <td>HV0003</td>\n",
       "      <td>B02682</td>\n",
       "      <td>2020-01-01 00:47:50</td>\n",
       "      <td>2020-01-01 00:53:23</td>\n",
       "      <td>114</td>\n",
       "      <td>79</td>\n",
       "      <td>NaN</td>\n",
       "    </tr>\n",
       "    <tr>\n",
       "      <th>2</th>\n",
       "      <td>HV0003</td>\n",
       "      <td>B02764</td>\n",
       "      <td>2020-01-01 00:04:37</td>\n",
       "      <td>2020-01-01 00:21:49</td>\n",
       "      <td>4</td>\n",
       "      <td>125</td>\n",
       "      <td>NaN</td>\n",
       "    </tr>\n",
       "    <tr>\n",
       "      <th>3</th>\n",
       "      <td>HV0003</td>\n",
       "      <td>B02764</td>\n",
       "      <td>2020-01-01 00:26:36</td>\n",
       "      <td>2020-01-01 00:33:00</td>\n",
       "      <td>231</td>\n",
       "      <td>113</td>\n",
       "      <td>NaN</td>\n",
       "    </tr>\n",
       "    <tr>\n",
       "      <th>4</th>\n",
       "      <td>HV0003</td>\n",
       "      <td>B02764</td>\n",
       "      <td>2020-01-01 00:37:49</td>\n",
       "      <td>2020-01-01 00:46:59</td>\n",
       "      <td>114</td>\n",
       "      <td>144</td>\n",
       "      <td>NaN</td>\n",
       "    </tr>\n",
       "  </tbody>\n",
       "</table>\n",
       "</div>"
      ],
      "text/plain": [
       "  hvfhs_license_num dispatching_base_num      pickup_datetime  \\\n",
       "0            HV0003               B02864  2020-01-01 00:45:34   \n",
       "1            HV0003               B02682  2020-01-01 00:47:50   \n",
       "2            HV0003               B02764  2020-01-01 00:04:37   \n",
       "3            HV0003               B02764  2020-01-01 00:26:36   \n",
       "4            HV0003               B02764  2020-01-01 00:37:49   \n",
       "\n",
       "      dropoff_datetime  PULocationID  DOLocationID  SR_Flag  \n",
       "0  2020-01-01 01:02:20           148            90      NaN  \n",
       "1  2020-01-01 00:53:23           114            79      NaN  \n",
       "2  2020-01-01 00:21:49             4           125      NaN  \n",
       "3  2020-01-01 00:33:00           231           113      NaN  \n",
       "4  2020-01-01 00:46:59           114           144      NaN  "
      ]
     },
     "execution_count": 131,
     "metadata": {},
     "output_type": "execute_result"
    }
   ],
   "source": [
    "df = dd.read_csv('tripdata/fhvhv_tripdata_2020-*.csv')\n",
    "df.head()"
   ]
  },
  {
   "cell_type": "markdown",
   "metadata": {},
   "source": [
    "Running code on these \"lazy\" DataFrames is a little more nuanced than simply using pandas. Let's see what happens with a simple example. Suppose, I ran"
   ]
  },
  {
   "cell_type": "code",
   "execution_count": 41,
   "metadata": {},
   "outputs": [
    {
     "data": {
      "text/plain": [
       "Dask Series Structure:\n",
       "npartitions=1\n",
       "DOLocationID       int64\n",
       "pickup_datetime      ...\n",
       "dtype: int64\n",
       "Dask Name: dataframe-count-agg, 386 tasks"
      ]
     },
     "execution_count": 41,
     "metadata": {},
     "output_type": "execute_result"
    }
   ],
   "source": [
    "df[df['hvfhs_license_num'] == 'HV0003'] .count()"
   ]
  },
  {
   "cell_type": "markdown",
   "metadata": {},
   "source": [
    "It returns almost immediately but doesn't give me the result. `df.count()` is description of what computation to do, and doesn't actually do the computation yet. To realize the answer, we need to explicitly run .compute()"
   ]
  },
  {
   "cell_type": "code",
   "execution_count": 42,
   "metadata": {},
   "outputs": [
    {
     "name": "stdout",
     "output_type": "stream",
     "text": [
      "CPU times: user 2min 17s, sys: 20.8 s, total: 2min 38s\n",
      "Wall time: 1min 44s\n"
     ]
    },
    {
     "data": {
      "text/plain": [
       "hvfhs_license_num       73640833\n",
       "dispatching_base_num    73640833\n",
       "pickup_datetime         73640833\n",
       "dropoff_datetime        73640833\n",
       "PULocationID            73640833\n",
       "DOLocationID            73640833\n",
       "SR_Flag                  6896323\n",
       "dtype: int64"
      ]
     },
     "execution_count": 42,
     "metadata": {},
     "output_type": "execute_result"
    }
   ],
   "source": [
    "%time df.count().compute()"
   ]
  },
  {
   "cell_type": "markdown",
   "metadata": {},
   "source": [
    "We can also do some more complicated analyses. Let's try to figure out the average length of a trip."
   ]
  },
  {
   "cell_type": "code",
   "execution_count": 140,
   "metadata": {},
   "outputs": [
    {
     "data": {
      "text/html": [
       "<div>\n",
       "<style scoped>\n",
       "    .dataframe tbody tr th:only-of-type {\n",
       "        vertical-align: middle;\n",
       "    }\n",
       "\n",
       "    .dataframe tbody tr th {\n",
       "        vertical-align: top;\n",
       "    }\n",
       "\n",
       "    .dataframe thead th {\n",
       "        text-align: right;\n",
       "    }\n",
       "</style>\n",
       "<table border=\"1\" class=\"dataframe\">\n",
       "  <thead>\n",
       "    <tr style=\"text-align: right;\">\n",
       "      <th></th>\n",
       "      <th>hvfhs_license_num</th>\n",
       "      <th>dispatching_base_num</th>\n",
       "      <th>pickup_datetime</th>\n",
       "      <th>dropoff_datetime</th>\n",
       "      <th>PULocationID</th>\n",
       "      <th>DOLocationID</th>\n",
       "      <th>SR_Flag</th>\n",
       "      <th>pickup_datetime_py</th>\n",
       "      <th>dropoff_datetime_py</th>\n",
       "    </tr>\n",
       "  </thead>\n",
       "  <tbody>\n",
       "    <tr>\n",
       "      <th>0</th>\n",
       "      <td>HV0003</td>\n",
       "      <td>B02864</td>\n",
       "      <td>2020-01-01 00:45:34</td>\n",
       "      <td>2020-01-01 01:02:20</td>\n",
       "      <td>148</td>\n",
       "      <td>90</td>\n",
       "      <td>NaN</td>\n",
       "      <td>2020-01-01 00:45:34</td>\n",
       "      <td>2020-01-01 01:02:20</td>\n",
       "    </tr>\n",
       "    <tr>\n",
       "      <th>1</th>\n",
       "      <td>HV0003</td>\n",
       "      <td>B02682</td>\n",
       "      <td>2020-01-01 00:47:50</td>\n",
       "      <td>2020-01-01 00:53:23</td>\n",
       "      <td>114</td>\n",
       "      <td>79</td>\n",
       "      <td>NaN</td>\n",
       "      <td>2020-01-01 00:47:50</td>\n",
       "      <td>2020-01-01 00:53:23</td>\n",
       "    </tr>\n",
       "    <tr>\n",
       "      <th>2</th>\n",
       "      <td>HV0003</td>\n",
       "      <td>B02764</td>\n",
       "      <td>2020-01-01 00:04:37</td>\n",
       "      <td>2020-01-01 00:21:49</td>\n",
       "      <td>4</td>\n",
       "      <td>125</td>\n",
       "      <td>NaN</td>\n",
       "      <td>2020-01-01 00:04:37</td>\n",
       "      <td>2020-01-01 00:21:49</td>\n",
       "    </tr>\n",
       "    <tr>\n",
       "      <th>3</th>\n",
       "      <td>HV0003</td>\n",
       "      <td>B02764</td>\n",
       "      <td>2020-01-01 00:26:36</td>\n",
       "      <td>2020-01-01 00:33:00</td>\n",
       "      <td>231</td>\n",
       "      <td>113</td>\n",
       "      <td>NaN</td>\n",
       "      <td>2020-01-01 00:26:36</td>\n",
       "      <td>2020-01-01 00:33:00</td>\n",
       "    </tr>\n",
       "    <tr>\n",
       "      <th>4</th>\n",
       "      <td>HV0003</td>\n",
       "      <td>B02764</td>\n",
       "      <td>2020-01-01 00:37:49</td>\n",
       "      <td>2020-01-01 00:46:59</td>\n",
       "      <td>114</td>\n",
       "      <td>144</td>\n",
       "      <td>NaN</td>\n",
       "      <td>2020-01-01 00:37:49</td>\n",
       "      <td>2020-01-01 00:46:59</td>\n",
       "    </tr>\n",
       "  </tbody>\n",
       "</table>\n",
       "</div>"
      ],
      "text/plain": [
       "  hvfhs_license_num dispatching_base_num      pickup_datetime  \\\n",
       "0            HV0003               B02864  2020-01-01 00:45:34   \n",
       "1            HV0003               B02682  2020-01-01 00:47:50   \n",
       "2            HV0003               B02764  2020-01-01 00:04:37   \n",
       "3            HV0003               B02764  2020-01-01 00:26:36   \n",
       "4            HV0003               B02764  2020-01-01 00:37:49   \n",
       "\n",
       "      dropoff_datetime  PULocationID  DOLocationID  SR_Flag  \\\n",
       "0  2020-01-01 01:02:20           148            90      NaN   \n",
       "1  2020-01-01 00:53:23           114            79      NaN   \n",
       "2  2020-01-01 00:21:49             4           125      NaN   \n",
       "3  2020-01-01 00:33:00           231           113      NaN   \n",
       "4  2020-01-01 00:46:59           114           144      NaN   \n",
       "\n",
       "   pickup_datetime_py dropoff_datetime_py  \n",
       "0 2020-01-01 00:45:34 2020-01-01 01:02:20  \n",
       "1 2020-01-01 00:47:50 2020-01-01 00:53:23  \n",
       "2 2020-01-01 00:04:37 2020-01-01 00:21:49  \n",
       "3 2020-01-01 00:26:36 2020-01-01 00:33:00  \n",
       "4 2020-01-01 00:37:49 2020-01-01 00:46:59  "
      ]
     },
     "execution_count": 140,
     "metadata": {},
     "output_type": "execute_result"
    }
   ],
   "source": [
    "df['dropoff_datetime_py'] = dd.to_datetime(df['dropoff_datetime'])\n",
    "df.head()"
   ]
  },
  {
   "cell_type": "code",
   "execution_count": 139,
   "metadata": {},
   "outputs": [],
   "source": [
    "df['pickup_datetime_py'] = dd.to_datetime(df['pickup_datetime'])"
   ]
  },
  {
   "cell_type": "code",
   "execution_count": 141,
   "metadata": {},
   "outputs": [],
   "source": [
    "df['difference'] = (df['dropoff_datetime_py'] - df['pickup_datetime_py'])"
   ]
  },
  {
   "cell_type": "code",
   "execution_count": 51,
   "metadata": {},
   "outputs": [
    {
     "data": {
      "text/html": [
       "<div>\n",
       "<style scoped>\n",
       "    .dataframe tbody tr th:only-of-type {\n",
       "        vertical-align: middle;\n",
       "    }\n",
       "\n",
       "    .dataframe tbody tr th {\n",
       "        vertical-align: top;\n",
       "    }\n",
       "\n",
       "    .dataframe thead th {\n",
       "        text-align: right;\n",
       "    }\n",
       "</style>\n",
       "<table border=\"1\" class=\"dataframe\">\n",
       "  <thead>\n",
       "    <tr style=\"text-align: right;\">\n",
       "      <th></th>\n",
       "      <th>hvfhs_license_num</th>\n",
       "      <th>dispatching_base_num</th>\n",
       "      <th>pickup_datetime</th>\n",
       "      <th>dropoff_datetime</th>\n",
       "      <th>PULocationID</th>\n",
       "      <th>DOLocationID</th>\n",
       "      <th>SR_Flag</th>\n",
       "      <th>dropoff_datetime_py</th>\n",
       "      <th>pickup_datetime_py</th>\n",
       "      <th>difference</th>\n",
       "      <th>difference_seconds</th>\n",
       "    </tr>\n",
       "  </thead>\n",
       "  <tbody>\n",
       "    <tr>\n",
       "      <th>0</th>\n",
       "      <td>HV0003</td>\n",
       "      <td>B02864</td>\n",
       "      <td>2020-01-01 00:45:34</td>\n",
       "      <td>2020-01-01 01:02:20</td>\n",
       "      <td>148</td>\n",
       "      <td>90</td>\n",
       "      <td>NaN</td>\n",
       "      <td>2020-01-01 01:02:20</td>\n",
       "      <td>2020-01-01 00:45:34</td>\n",
       "      <td>0 days 00:16:46</td>\n",
       "      <td>1006.0</td>\n",
       "    </tr>\n",
       "    <tr>\n",
       "      <th>1</th>\n",
       "      <td>HV0003</td>\n",
       "      <td>B02682</td>\n",
       "      <td>2020-01-01 00:47:50</td>\n",
       "      <td>2020-01-01 00:53:23</td>\n",
       "      <td>114</td>\n",
       "      <td>79</td>\n",
       "      <td>NaN</td>\n",
       "      <td>2020-01-01 00:53:23</td>\n",
       "      <td>2020-01-01 00:47:50</td>\n",
       "      <td>0 days 00:05:33</td>\n",
       "      <td>333.0</td>\n",
       "    </tr>\n",
       "    <tr>\n",
       "      <th>2</th>\n",
       "      <td>HV0003</td>\n",
       "      <td>B02764</td>\n",
       "      <td>2020-01-01 00:04:37</td>\n",
       "      <td>2020-01-01 00:21:49</td>\n",
       "      <td>4</td>\n",
       "      <td>125</td>\n",
       "      <td>NaN</td>\n",
       "      <td>2020-01-01 00:21:49</td>\n",
       "      <td>2020-01-01 00:04:37</td>\n",
       "      <td>0 days 00:17:12</td>\n",
       "      <td>1032.0</td>\n",
       "    </tr>\n",
       "    <tr>\n",
       "      <th>3</th>\n",
       "      <td>HV0003</td>\n",
       "      <td>B02764</td>\n",
       "      <td>2020-01-01 00:26:36</td>\n",
       "      <td>2020-01-01 00:33:00</td>\n",
       "      <td>231</td>\n",
       "      <td>113</td>\n",
       "      <td>NaN</td>\n",
       "      <td>2020-01-01 00:33:00</td>\n",
       "      <td>2020-01-01 00:26:36</td>\n",
       "      <td>0 days 00:06:24</td>\n",
       "      <td>384.0</td>\n",
       "    </tr>\n",
       "    <tr>\n",
       "      <th>4</th>\n",
       "      <td>HV0003</td>\n",
       "      <td>B02764</td>\n",
       "      <td>2020-01-01 00:37:49</td>\n",
       "      <td>2020-01-01 00:46:59</td>\n",
       "      <td>114</td>\n",
       "      <td>144</td>\n",
       "      <td>NaN</td>\n",
       "      <td>2020-01-01 00:46:59</td>\n",
       "      <td>2020-01-01 00:37:49</td>\n",
       "      <td>0 days 00:09:10</td>\n",
       "      <td>550.0</td>\n",
       "    </tr>\n",
       "    <tr>\n",
       "      <th>5</th>\n",
       "      <td>HV0003</td>\n",
       "      <td>B02764</td>\n",
       "      <td>2020-01-01 00:49:23</td>\n",
       "      <td>2020-01-01 01:07:26</td>\n",
       "      <td>144</td>\n",
       "      <td>137</td>\n",
       "      <td>NaN</td>\n",
       "      <td>2020-01-01 01:07:26</td>\n",
       "      <td>2020-01-01 00:49:23</td>\n",
       "      <td>0 days 00:18:03</td>\n",
       "      <td>1083.0</td>\n",
       "    </tr>\n",
       "    <tr>\n",
       "      <th>6</th>\n",
       "      <td>HV0003</td>\n",
       "      <td>B02870</td>\n",
       "      <td>2020-01-01 00:21:11</td>\n",
       "      <td>2020-01-01 00:36:58</td>\n",
       "      <td>249</td>\n",
       "      <td>148</td>\n",
       "      <td>NaN</td>\n",
       "      <td>2020-01-01 00:36:58</td>\n",
       "      <td>2020-01-01 00:21:11</td>\n",
       "      <td>0 days 00:15:47</td>\n",
       "      <td>947.0</td>\n",
       "    </tr>\n",
       "    <tr>\n",
       "      <th>7</th>\n",
       "      <td>HV0003</td>\n",
       "      <td>B02870</td>\n",
       "      <td>2020-01-01 00:38:28</td>\n",
       "      <td>2020-01-01 00:42:38</td>\n",
       "      <td>148</td>\n",
       "      <td>4</td>\n",
       "      <td>NaN</td>\n",
       "      <td>2020-01-01 00:42:38</td>\n",
       "      <td>2020-01-01 00:38:28</td>\n",
       "      <td>0 days 00:04:10</td>\n",
       "      <td>250.0</td>\n",
       "    </tr>\n",
       "    <tr>\n",
       "      <th>8</th>\n",
       "      <td>HV0003</td>\n",
       "      <td>B02870</td>\n",
       "      <td>2020-01-01 00:46:26</td>\n",
       "      <td>2020-01-01 01:09:55</td>\n",
       "      <td>79</td>\n",
       "      <td>7</td>\n",
       "      <td>NaN</td>\n",
       "      <td>2020-01-01 01:09:55</td>\n",
       "      <td>2020-01-01 00:46:26</td>\n",
       "      <td>0 days 00:23:29</td>\n",
       "      <td>1409.0</td>\n",
       "    </tr>\n",
       "    <tr>\n",
       "      <th>9</th>\n",
       "      <td>HV0003</td>\n",
       "      <td>B02836</td>\n",
       "      <td>2020-01-01 00:15:35</td>\n",
       "      <td>2020-01-01 00:23:21</td>\n",
       "      <td>140</td>\n",
       "      <td>236</td>\n",
       "      <td>NaN</td>\n",
       "      <td>2020-01-01 00:23:21</td>\n",
       "      <td>2020-01-01 00:15:35</td>\n",
       "      <td>0 days 00:07:46</td>\n",
       "      <td>466.0</td>\n",
       "    </tr>\n",
       "    <tr>\n",
       "      <th>10</th>\n",
       "      <td>HV0003</td>\n",
       "      <td>B02836</td>\n",
       "      <td>2020-01-01 00:28:04</td>\n",
       "      <td>2020-01-01 01:13:35</td>\n",
       "      <td>75</td>\n",
       "      <td>149</td>\n",
       "      <td>NaN</td>\n",
       "      <td>2020-01-01 01:13:35</td>\n",
       "      <td>2020-01-01 00:28:04</td>\n",
       "      <td>0 days 00:45:31</td>\n",
       "      <td>2731.0</td>\n",
       "    </tr>\n",
       "    <tr>\n",
       "      <th>11</th>\n",
       "      <td>HV0003</td>\n",
       "      <td>B02875</td>\n",
       "      <td>2020-01-01 00:14:22</td>\n",
       "      <td>2020-01-01 00:40:02</td>\n",
       "      <td>33</td>\n",
       "      <td>229</td>\n",
       "      <td>NaN</td>\n",
       "      <td>2020-01-01 00:40:02</td>\n",
       "      <td>2020-01-01 00:14:22</td>\n",
       "      <td>0 days 00:25:40</td>\n",
       "      <td>1540.0</td>\n",
       "    </tr>\n",
       "    <tr>\n",
       "      <th>12</th>\n",
       "      <td>HV0003</td>\n",
       "      <td>B02875</td>\n",
       "      <td>2020-01-01 00:45:02</td>\n",
       "      <td>2020-01-01 00:59:11</td>\n",
       "      <td>229</td>\n",
       "      <td>74</td>\n",
       "      <td>NaN</td>\n",
       "      <td>2020-01-01 00:59:11</td>\n",
       "      <td>2020-01-01 00:45:02</td>\n",
       "      <td>0 days 00:14:09</td>\n",
       "      <td>849.0</td>\n",
       "    </tr>\n",
       "    <tr>\n",
       "      <th>13</th>\n",
       "      <td>HV0003</td>\n",
       "      <td>B02764</td>\n",
       "      <td>2020-01-01 00:16:55</td>\n",
       "      <td>2020-01-01 00:42:36</td>\n",
       "      <td>114</td>\n",
       "      <td>238</td>\n",
       "      <td>NaN</td>\n",
       "      <td>2020-01-01 00:42:36</td>\n",
       "      <td>2020-01-01 00:16:55</td>\n",
       "      <td>0 days 00:25:41</td>\n",
       "      <td>1541.0</td>\n",
       "    </tr>\n",
       "    <tr>\n",
       "      <th>14</th>\n",
       "      <td>HV0003</td>\n",
       "      <td>B02617</td>\n",
       "      <td>2020-01-01 00:40:01</td>\n",
       "      <td>2020-01-01 00:45:22</td>\n",
       "      <td>85</td>\n",
       "      <td>89</td>\n",
       "      <td>NaN</td>\n",
       "      <td>2020-01-01 00:45:22</td>\n",
       "      <td>2020-01-01 00:40:01</td>\n",
       "      <td>0 days 00:05:21</td>\n",
       "      <td>321.0</td>\n",
       "    </tr>\n",
       "    <tr>\n",
       "      <th>15</th>\n",
       "      <td>HV0003</td>\n",
       "      <td>B02617</td>\n",
       "      <td>2020-01-01 00:55:45</td>\n",
       "      <td>2020-01-01 01:25:10</td>\n",
       "      <td>61</td>\n",
       "      <td>202</td>\n",
       "      <td>NaN</td>\n",
       "      <td>2020-01-01 01:25:10</td>\n",
       "      <td>2020-01-01 00:55:45</td>\n",
       "      <td>0 days 00:29:25</td>\n",
       "      <td>1765.0</td>\n",
       "    </tr>\n",
       "    <tr>\n",
       "      <th>16</th>\n",
       "      <td>HV0003</td>\n",
       "      <td>B02883</td>\n",
       "      <td>2020-01-01 00:28:57</td>\n",
       "      <td>2020-01-01 01:18:07</td>\n",
       "      <td>162</td>\n",
       "      <td>265</td>\n",
       "      <td>NaN</td>\n",
       "      <td>2020-01-01 01:18:07</td>\n",
       "      <td>2020-01-01 00:28:57</td>\n",
       "      <td>0 days 00:49:10</td>\n",
       "      <td>2950.0</td>\n",
       "    </tr>\n",
       "    <tr>\n",
       "      <th>17</th>\n",
       "      <td>HV0003</td>\n",
       "      <td>B02872</td>\n",
       "      <td>2020-01-01 00:20:35</td>\n",
       "      <td>2020-01-01 00:22:35</td>\n",
       "      <td>71</td>\n",
       "      <td>71</td>\n",
       "      <td>NaN</td>\n",
       "      <td>2020-01-01 00:22:35</td>\n",
       "      <td>2020-01-01 00:20:35</td>\n",
       "      <td>0 days 00:02:00</td>\n",
       "      <td>120.0</td>\n",
       "    </tr>\n",
       "    <tr>\n",
       "      <th>18</th>\n",
       "      <td>HV0003</td>\n",
       "      <td>B02872</td>\n",
       "      <td>2020-01-01 00:26:49</td>\n",
       "      <td>2020-01-01 00:35:32</td>\n",
       "      <td>71</td>\n",
       "      <td>35</td>\n",
       "      <td>NaN</td>\n",
       "      <td>2020-01-01 00:35:32</td>\n",
       "      <td>2020-01-01 00:26:49</td>\n",
       "      <td>0 days 00:08:43</td>\n",
       "      <td>523.0</td>\n",
       "    </tr>\n",
       "    <tr>\n",
       "      <th>19</th>\n",
       "      <td>HV0003</td>\n",
       "      <td>B02872</td>\n",
       "      <td>2020-01-01 00:45:19</td>\n",
       "      <td>2020-01-01 01:07:05</td>\n",
       "      <td>61</td>\n",
       "      <td>76</td>\n",
       "      <td>NaN</td>\n",
       "      <td>2020-01-01 01:07:05</td>\n",
       "      <td>2020-01-01 00:45:19</td>\n",
       "      <td>0 days 00:21:46</td>\n",
       "      <td>1306.0</td>\n",
       "    </tr>\n",
       "    <tr>\n",
       "      <th>20</th>\n",
       "      <td>HV0005</td>\n",
       "      <td>B02510</td>\n",
       "      <td>2020-01-01 00:47:44</td>\n",
       "      <td>2020-01-01 00:55:29</td>\n",
       "      <td>113</td>\n",
       "      <td>170</td>\n",
       "      <td>NaN</td>\n",
       "      <td>2020-01-01 00:55:29</td>\n",
       "      <td>2020-01-01 00:47:44</td>\n",
       "      <td>0 days 00:07:45</td>\n",
       "      <td>465.0</td>\n",
       "    </tr>\n",
       "    <tr>\n",
       "      <th>21</th>\n",
       "      <td>HV0005</td>\n",
       "      <td>B02510</td>\n",
       "      <td>2020-01-01 00:58:37</td>\n",
       "      <td>2020-01-01 01:15:57</td>\n",
       "      <td>162</td>\n",
       "      <td>79</td>\n",
       "      <td>NaN</td>\n",
       "      <td>2020-01-01 01:15:57</td>\n",
       "      <td>2020-01-01 00:58:37</td>\n",
       "      <td>0 days 00:17:20</td>\n",
       "      <td>1040.0</td>\n",
       "    </tr>\n",
       "    <tr>\n",
       "      <th>22</th>\n",
       "      <td>HV0003</td>\n",
       "      <td>B02764</td>\n",
       "      <td>2020-01-01 00:19:26</td>\n",
       "      <td>2020-01-01 00:38:25</td>\n",
       "      <td>87</td>\n",
       "      <td>79</td>\n",
       "      <td>NaN</td>\n",
       "      <td>2020-01-01 00:38:25</td>\n",
       "      <td>2020-01-01 00:19:26</td>\n",
       "      <td>0 days 00:18:59</td>\n",
       "      <td>1139.0</td>\n",
       "    </tr>\n",
       "    <tr>\n",
       "      <th>23</th>\n",
       "      <td>HV0005</td>\n",
       "      <td>B02510</td>\n",
       "      <td>2020-01-01 00:14:01</td>\n",
       "      <td>2020-01-01 00:35:47</td>\n",
       "      <td>50</td>\n",
       "      <td>186</td>\n",
       "      <td>NaN</td>\n",
       "      <td>2020-01-01 00:35:47</td>\n",
       "      <td>2020-01-01 00:14:01</td>\n",
       "      <td>0 days 00:21:46</td>\n",
       "      <td>1306.0</td>\n",
       "    </tr>\n",
       "    <tr>\n",
       "      <th>24</th>\n",
       "      <td>HV0005</td>\n",
       "      <td>B02510</td>\n",
       "      <td>2020-01-01 00:46:13</td>\n",
       "      <td>2020-01-01 01:46:38</td>\n",
       "      <td>186</td>\n",
       "      <td>6</td>\n",
       "      <td>1.0</td>\n",
       "      <td>2020-01-01 01:46:38</td>\n",
       "      <td>2020-01-01 00:46:13</td>\n",
       "      <td>0 days 01:00:25</td>\n",
       "      <td>3625.0</td>\n",
       "    </tr>\n",
       "    <tr>\n",
       "      <th>25</th>\n",
       "      <td>HV0005</td>\n",
       "      <td>B02510</td>\n",
       "      <td>2020-01-01 00:06:52</td>\n",
       "      <td>2020-01-01 00:24:13</td>\n",
       "      <td>145</td>\n",
       "      <td>95</td>\n",
       "      <td>NaN</td>\n",
       "      <td>2020-01-01 00:24:13</td>\n",
       "      <td>2020-01-01 00:06:52</td>\n",
       "      <td>0 days 00:17:21</td>\n",
       "      <td>1041.0</td>\n",
       "    </tr>\n",
       "    <tr>\n",
       "      <th>26</th>\n",
       "      <td>HV0005</td>\n",
       "      <td>B02510</td>\n",
       "      <td>2020-01-01 00:28:18</td>\n",
       "      <td>2020-01-01 00:45:13</td>\n",
       "      <td>95</td>\n",
       "      <td>226</td>\n",
       "      <td>NaN</td>\n",
       "      <td>2020-01-01 00:45:13</td>\n",
       "      <td>2020-01-01 00:28:18</td>\n",
       "      <td>0 days 00:16:55</td>\n",
       "      <td>1015.0</td>\n",
       "    </tr>\n",
       "    <tr>\n",
       "      <th>27</th>\n",
       "      <td>HV0005</td>\n",
       "      <td>B02510</td>\n",
       "      <td>2020-01-01 00:47:51</td>\n",
       "      <td>2020-01-01 00:55:47</td>\n",
       "      <td>226</td>\n",
       "      <td>7</td>\n",
       "      <td>NaN</td>\n",
       "      <td>2020-01-01 00:55:47</td>\n",
       "      <td>2020-01-01 00:47:51</td>\n",
       "      <td>0 days 00:07:56</td>\n",
       "      <td>476.0</td>\n",
       "    </tr>\n",
       "    <tr>\n",
       "      <th>28</th>\n",
       "      <td>HV0003</td>\n",
       "      <td>B02682</td>\n",
       "      <td>2020-01-01 00:16:17</td>\n",
       "      <td>2020-01-01 00:50:37</td>\n",
       "      <td>211</td>\n",
       "      <td>265</td>\n",
       "      <td>NaN</td>\n",
       "      <td>2020-01-01 00:50:37</td>\n",
       "      <td>2020-01-01 00:16:17</td>\n",
       "      <td>0 days 00:34:20</td>\n",
       "      <td>2060.0</td>\n",
       "    </tr>\n",
       "    <tr>\n",
       "      <th>29</th>\n",
       "      <td>HV0005</td>\n",
       "      <td>B02510</td>\n",
       "      <td>2020-01-01 00:19:35</td>\n",
       "      <td>2020-01-01 00:37:30</td>\n",
       "      <td>255</td>\n",
       "      <td>49</td>\n",
       "      <td>NaN</td>\n",
       "      <td>2020-01-01 00:37:30</td>\n",
       "      <td>2020-01-01 00:19:35</td>\n",
       "      <td>0 days 00:17:55</td>\n",
       "      <td>1075.0</td>\n",
       "    </tr>\n",
       "  </tbody>\n",
       "</table>\n",
       "</div>"
      ],
      "text/plain": [
       "   hvfhs_license_num dispatching_base_num      pickup_datetime  \\\n",
       "0             HV0003               B02864  2020-01-01 00:45:34   \n",
       "1             HV0003               B02682  2020-01-01 00:47:50   \n",
       "2             HV0003               B02764  2020-01-01 00:04:37   \n",
       "3             HV0003               B02764  2020-01-01 00:26:36   \n",
       "4             HV0003               B02764  2020-01-01 00:37:49   \n",
       "5             HV0003               B02764  2020-01-01 00:49:23   \n",
       "6             HV0003               B02870  2020-01-01 00:21:11   \n",
       "7             HV0003               B02870  2020-01-01 00:38:28   \n",
       "8             HV0003               B02870  2020-01-01 00:46:26   \n",
       "9             HV0003               B02836  2020-01-01 00:15:35   \n",
       "10            HV0003               B02836  2020-01-01 00:28:04   \n",
       "11            HV0003               B02875  2020-01-01 00:14:22   \n",
       "12            HV0003               B02875  2020-01-01 00:45:02   \n",
       "13            HV0003               B02764  2020-01-01 00:16:55   \n",
       "14            HV0003               B02617  2020-01-01 00:40:01   \n",
       "15            HV0003               B02617  2020-01-01 00:55:45   \n",
       "16            HV0003               B02883  2020-01-01 00:28:57   \n",
       "17            HV0003               B02872  2020-01-01 00:20:35   \n",
       "18            HV0003               B02872  2020-01-01 00:26:49   \n",
       "19            HV0003               B02872  2020-01-01 00:45:19   \n",
       "20            HV0005               B02510  2020-01-01 00:47:44   \n",
       "21            HV0005               B02510  2020-01-01 00:58:37   \n",
       "22            HV0003               B02764  2020-01-01 00:19:26   \n",
       "23            HV0005               B02510  2020-01-01 00:14:01   \n",
       "24            HV0005               B02510  2020-01-01 00:46:13   \n",
       "25            HV0005               B02510  2020-01-01 00:06:52   \n",
       "26            HV0005               B02510  2020-01-01 00:28:18   \n",
       "27            HV0005               B02510  2020-01-01 00:47:51   \n",
       "28            HV0003               B02682  2020-01-01 00:16:17   \n",
       "29            HV0005               B02510  2020-01-01 00:19:35   \n",
       "\n",
       "       dropoff_datetime  PULocationID  DOLocationID  SR_Flag  \\\n",
       "0   2020-01-01 01:02:20           148            90      NaN   \n",
       "1   2020-01-01 00:53:23           114            79      NaN   \n",
       "2   2020-01-01 00:21:49             4           125      NaN   \n",
       "3   2020-01-01 00:33:00           231           113      NaN   \n",
       "4   2020-01-01 00:46:59           114           144      NaN   \n",
       "5   2020-01-01 01:07:26           144           137      NaN   \n",
       "6   2020-01-01 00:36:58           249           148      NaN   \n",
       "7   2020-01-01 00:42:38           148             4      NaN   \n",
       "8   2020-01-01 01:09:55            79             7      NaN   \n",
       "9   2020-01-01 00:23:21           140           236      NaN   \n",
       "10  2020-01-01 01:13:35            75           149      NaN   \n",
       "11  2020-01-01 00:40:02            33           229      NaN   \n",
       "12  2020-01-01 00:59:11           229            74      NaN   \n",
       "13  2020-01-01 00:42:36           114           238      NaN   \n",
       "14  2020-01-01 00:45:22            85            89      NaN   \n",
       "15  2020-01-01 01:25:10            61           202      NaN   \n",
       "16  2020-01-01 01:18:07           162           265      NaN   \n",
       "17  2020-01-01 00:22:35            71            71      NaN   \n",
       "18  2020-01-01 00:35:32            71            35      NaN   \n",
       "19  2020-01-01 01:07:05            61            76      NaN   \n",
       "20  2020-01-01 00:55:29           113           170      NaN   \n",
       "21  2020-01-01 01:15:57           162            79      NaN   \n",
       "22  2020-01-01 00:38:25            87            79      NaN   \n",
       "23  2020-01-01 00:35:47            50           186      NaN   \n",
       "24  2020-01-01 01:46:38           186             6      1.0   \n",
       "25  2020-01-01 00:24:13           145            95      NaN   \n",
       "26  2020-01-01 00:45:13            95           226      NaN   \n",
       "27  2020-01-01 00:55:47           226             7      NaN   \n",
       "28  2020-01-01 00:50:37           211           265      NaN   \n",
       "29  2020-01-01 00:37:30           255            49      NaN   \n",
       "\n",
       "   dropoff_datetime_py  pickup_datetime_py      difference  difference_seconds  \n",
       "0  2020-01-01 01:02:20 2020-01-01 00:45:34 0 days 00:16:46              1006.0  \n",
       "1  2020-01-01 00:53:23 2020-01-01 00:47:50 0 days 00:05:33               333.0  \n",
       "2  2020-01-01 00:21:49 2020-01-01 00:04:37 0 days 00:17:12              1032.0  \n",
       "3  2020-01-01 00:33:00 2020-01-01 00:26:36 0 days 00:06:24               384.0  \n",
       "4  2020-01-01 00:46:59 2020-01-01 00:37:49 0 days 00:09:10               550.0  \n",
       "5  2020-01-01 01:07:26 2020-01-01 00:49:23 0 days 00:18:03              1083.0  \n",
       "6  2020-01-01 00:36:58 2020-01-01 00:21:11 0 days 00:15:47               947.0  \n",
       "7  2020-01-01 00:42:38 2020-01-01 00:38:28 0 days 00:04:10               250.0  \n",
       "8  2020-01-01 01:09:55 2020-01-01 00:46:26 0 days 00:23:29              1409.0  \n",
       "9  2020-01-01 00:23:21 2020-01-01 00:15:35 0 days 00:07:46               466.0  \n",
       "10 2020-01-01 01:13:35 2020-01-01 00:28:04 0 days 00:45:31              2731.0  \n",
       "11 2020-01-01 00:40:02 2020-01-01 00:14:22 0 days 00:25:40              1540.0  \n",
       "12 2020-01-01 00:59:11 2020-01-01 00:45:02 0 days 00:14:09               849.0  \n",
       "13 2020-01-01 00:42:36 2020-01-01 00:16:55 0 days 00:25:41              1541.0  \n",
       "14 2020-01-01 00:45:22 2020-01-01 00:40:01 0 days 00:05:21               321.0  \n",
       "15 2020-01-01 01:25:10 2020-01-01 00:55:45 0 days 00:29:25              1765.0  \n",
       "16 2020-01-01 01:18:07 2020-01-01 00:28:57 0 days 00:49:10              2950.0  \n",
       "17 2020-01-01 00:22:35 2020-01-01 00:20:35 0 days 00:02:00               120.0  \n",
       "18 2020-01-01 00:35:32 2020-01-01 00:26:49 0 days 00:08:43               523.0  \n",
       "19 2020-01-01 01:07:05 2020-01-01 00:45:19 0 days 00:21:46              1306.0  \n",
       "20 2020-01-01 00:55:29 2020-01-01 00:47:44 0 days 00:07:45               465.0  \n",
       "21 2020-01-01 01:15:57 2020-01-01 00:58:37 0 days 00:17:20              1040.0  \n",
       "22 2020-01-01 00:38:25 2020-01-01 00:19:26 0 days 00:18:59              1139.0  \n",
       "23 2020-01-01 00:35:47 2020-01-01 00:14:01 0 days 00:21:46              1306.0  \n",
       "24 2020-01-01 01:46:38 2020-01-01 00:46:13 0 days 01:00:25              3625.0  \n",
       "25 2020-01-01 00:24:13 2020-01-01 00:06:52 0 days 00:17:21              1041.0  \n",
       "26 2020-01-01 00:45:13 2020-01-01 00:28:18 0 days 00:16:55              1015.0  \n",
       "27 2020-01-01 00:55:47 2020-01-01 00:47:51 0 days 00:07:56               476.0  \n",
       "28 2020-01-01 00:50:37 2020-01-01 00:16:17 0 days 00:34:20              2060.0  \n",
       "29 2020-01-01 00:37:30 2020-01-01 00:19:35 0 days 00:17:55              1075.0  "
      ]
     },
     "execution_count": 51,
     "metadata": {},
     "output_type": "execute_result"
    }
   ],
   "source": [
    "df.head(30)"
   ]
  },
  {
   "cell_type": "markdown",
   "metadata": {},
   "source": [
    "How do you think the above code works with lazy evaluation?"
   ]
  },
  {
   "cell_type": "code",
   "execution_count": 142,
   "metadata": {},
   "outputs": [
    {
     "data": {
      "text/html": [
       "<div>\n",
       "<style scoped>\n",
       "    .dataframe tbody tr th:only-of-type {\n",
       "        vertical-align: middle;\n",
       "    }\n",
       "\n",
       "    .dataframe tbody tr th {\n",
       "        vertical-align: top;\n",
       "    }\n",
       "\n",
       "    .dataframe thead th {\n",
       "        text-align: right;\n",
       "    }\n",
       "</style>\n",
       "<table border=\"1\" class=\"dataframe\">\n",
       "  <thead>\n",
       "    <tr style=\"text-align: right;\">\n",
       "      <th></th>\n",
       "      <th>hvfhs_license_num</th>\n",
       "      <th>dispatching_base_num</th>\n",
       "      <th>pickup_datetime</th>\n",
       "      <th>dropoff_datetime</th>\n",
       "      <th>PULocationID</th>\n",
       "      <th>DOLocationID</th>\n",
       "      <th>SR_Flag</th>\n",
       "      <th>pickup_datetime_py</th>\n",
       "      <th>dropoff_datetime_py</th>\n",
       "      <th>difference</th>\n",
       "      <th>difference_seconds</th>\n",
       "    </tr>\n",
       "  </thead>\n",
       "  <tbody>\n",
       "    <tr>\n",
       "      <th>0</th>\n",
       "      <td>HV0003</td>\n",
       "      <td>B02864</td>\n",
       "      <td>2020-01-01 00:45:34</td>\n",
       "      <td>2020-01-01 01:02:20</td>\n",
       "      <td>148</td>\n",
       "      <td>90</td>\n",
       "      <td>NaN</td>\n",
       "      <td>2020-01-01 00:45:34</td>\n",
       "      <td>2020-01-01 01:02:20</td>\n",
       "      <td>0 days 00:16:46</td>\n",
       "      <td>1006.0</td>\n",
       "    </tr>\n",
       "    <tr>\n",
       "      <th>1</th>\n",
       "      <td>HV0003</td>\n",
       "      <td>B02682</td>\n",
       "      <td>2020-01-01 00:47:50</td>\n",
       "      <td>2020-01-01 00:53:23</td>\n",
       "      <td>114</td>\n",
       "      <td>79</td>\n",
       "      <td>NaN</td>\n",
       "      <td>2020-01-01 00:47:50</td>\n",
       "      <td>2020-01-01 00:53:23</td>\n",
       "      <td>0 days 00:05:33</td>\n",
       "      <td>333.0</td>\n",
       "    </tr>\n",
       "    <tr>\n",
       "      <th>2</th>\n",
       "      <td>HV0003</td>\n",
       "      <td>B02764</td>\n",
       "      <td>2020-01-01 00:04:37</td>\n",
       "      <td>2020-01-01 00:21:49</td>\n",
       "      <td>4</td>\n",
       "      <td>125</td>\n",
       "      <td>NaN</td>\n",
       "      <td>2020-01-01 00:04:37</td>\n",
       "      <td>2020-01-01 00:21:49</td>\n",
       "      <td>0 days 00:17:12</td>\n",
       "      <td>1032.0</td>\n",
       "    </tr>\n",
       "    <tr>\n",
       "      <th>3</th>\n",
       "      <td>HV0003</td>\n",
       "      <td>B02764</td>\n",
       "      <td>2020-01-01 00:26:36</td>\n",
       "      <td>2020-01-01 00:33:00</td>\n",
       "      <td>231</td>\n",
       "      <td>113</td>\n",
       "      <td>NaN</td>\n",
       "      <td>2020-01-01 00:26:36</td>\n",
       "      <td>2020-01-01 00:33:00</td>\n",
       "      <td>0 days 00:06:24</td>\n",
       "      <td>384.0</td>\n",
       "    </tr>\n",
       "    <tr>\n",
       "      <th>4</th>\n",
       "      <td>HV0003</td>\n",
       "      <td>B02764</td>\n",
       "      <td>2020-01-01 00:37:49</td>\n",
       "      <td>2020-01-01 00:46:59</td>\n",
       "      <td>114</td>\n",
       "      <td>144</td>\n",
       "      <td>NaN</td>\n",
       "      <td>2020-01-01 00:37:49</td>\n",
       "      <td>2020-01-01 00:46:59</td>\n",
       "      <td>0 days 00:09:10</td>\n",
       "      <td>550.0</td>\n",
       "    </tr>\n",
       "  </tbody>\n",
       "</table>\n",
       "</div>"
      ],
      "text/plain": [
       "  hvfhs_license_num dispatching_base_num      pickup_datetime  \\\n",
       "0            HV0003               B02864  2020-01-01 00:45:34   \n",
       "1            HV0003               B02682  2020-01-01 00:47:50   \n",
       "2            HV0003               B02764  2020-01-01 00:04:37   \n",
       "3            HV0003               B02764  2020-01-01 00:26:36   \n",
       "4            HV0003               B02764  2020-01-01 00:37:49   \n",
       "\n",
       "      dropoff_datetime  PULocationID  DOLocationID  SR_Flag  \\\n",
       "0  2020-01-01 01:02:20           148            90      NaN   \n",
       "1  2020-01-01 00:53:23           114            79      NaN   \n",
       "2  2020-01-01 00:21:49             4           125      NaN   \n",
       "3  2020-01-01 00:33:00           231           113      NaN   \n",
       "4  2020-01-01 00:46:59           114           144      NaN   \n",
       "\n",
       "   pickup_datetime_py dropoff_datetime_py      difference  difference_seconds  \n",
       "0 2020-01-01 00:45:34 2020-01-01 01:02:20 0 days 00:16:46              1006.0  \n",
       "1 2020-01-01 00:47:50 2020-01-01 00:53:23 0 days 00:05:33               333.0  \n",
       "2 2020-01-01 00:04:37 2020-01-01 00:21:49 0 days 00:17:12              1032.0  \n",
       "3 2020-01-01 00:26:36 2020-01-01 00:33:00 0 days 00:06:24               384.0  \n",
       "4 2020-01-01 00:37:49 2020-01-01 00:46:59 0 days 00:09:10               550.0  "
      ]
     },
     "execution_count": 142,
     "metadata": {},
     "output_type": "execute_result"
    }
   ],
   "source": [
    "df['difference_seconds'] = df['difference'].dt.total_seconds()\n",
    "df.head()"
   ]
  },
  {
   "cell_type": "code",
   "execution_count": 35,
   "metadata": {},
   "outputs": [
    {
     "data": {
      "text/plain": [
       "(1013.1593988487339, 691.1400486498965)"
      ]
     },
     "execution_count": 35,
     "metadata": {},
     "output_type": "execute_result"
    }
   ],
   "source": [
    "df['difference_seconds'].mean().compute(), df['difference_seconds'].std().compute()"
   ]
  },
  {
   "cell_type": "code",
   "execution_count": 53,
   "metadata": {},
   "outputs": [
    {
     "name": "stdout",
     "output_type": "stream",
     "text": [
      "Collecting geopandas\n",
      "  Using cached geopandas-0.10.2-py2.py3-none-any.whl (1.0 MB)\n",
      "Requirement already satisfied: pandas>=0.25.0 in /Users/sanjaykrishnan/Documents/cmsc13600-public/venv/lib/python3.9/site-packages (from geopandas) (1.2.4)\n",
      "Collecting shapely>=1.6\n",
      "  Using cached Shapely-1.8.2-cp39-cp39-macosx_10_9_x86_64.whl (1.2 MB)\n",
      "Collecting fiona>=1.8\n",
      "  Downloading Fiona-1.8.21-cp39-cp39-macosx_10_10_x86_64.whl (18.5 MB)\n",
      "\u001b[K     |████████████████████████████████| 18.5 MB 16.7 MB/s eta 0:00:01   |███████▍                        | 4.3 MB 8.7 MB/s eta 0:00:02\n",
      "\u001b[?25hCollecting pyproj>=2.2.0\n",
      "  Downloading pyproj-3.3.1-cp39-cp39-macosx_10_9_x86_64.whl (8.2 MB)\n",
      "\u001b[K     |████████████████████████████████| 8.2 MB 458 kB/s eta 0:00:01\n",
      "\u001b[?25hRequirement already satisfied: six>=1.7 in /Users/sanjaykrishnan/Documents/cmsc13600-public/venv/lib/python3.9/site-packages (from fiona>=1.8->geopandas) (1.16.0)\n",
      "Collecting munch\n",
      "  Using cached munch-2.5.0-py2.py3-none-any.whl (10 kB)\n",
      "Requirement already satisfied: click>=4.0 in /Users/sanjaykrishnan/Documents/cmsc13600-public/venv/lib/python3.9/site-packages (from fiona>=1.8->geopandas) (8.0.0)\n",
      "Requirement already satisfied: attrs>=17 in /Users/sanjaykrishnan/Documents/cmsc13600-public/venv/lib/python3.9/site-packages (from fiona>=1.8->geopandas) (21.2.0)\n",
      "Requirement already satisfied: setuptools in /Users/sanjaykrishnan/Documents/cmsc13600-public/venv/lib/python3.9/site-packages (from fiona>=1.8->geopandas) (56.0.0)\n",
      "Collecting click-plugins>=1.0\n",
      "  Using cached click_plugins-1.1.1-py2.py3-none-any.whl (7.5 kB)\n",
      "Collecting certifi\n",
      "  Using cached certifi-2021.10.8-py2.py3-none-any.whl (149 kB)\n",
      "Collecting cligj>=0.5\n",
      "  Using cached cligj-0.7.2-py3-none-any.whl (7.1 kB)\n",
      "Requirement already satisfied: numpy>=1.16.5 in /Users/sanjaykrishnan/Documents/cmsc13600-public/venv/lib/python3.9/site-packages (from pandas>=0.25.0->geopandas) (1.20.3)\n",
      "Requirement already satisfied: python-dateutil>=2.7.3 in /Users/sanjaykrishnan/Documents/cmsc13600-public/venv/lib/python3.9/site-packages (from pandas>=0.25.0->geopandas) (2.8.1)\n",
      "Requirement already satisfied: pytz>=2017.3 in /Users/sanjaykrishnan/Documents/cmsc13600-public/venv/lib/python3.9/site-packages (from pandas>=0.25.0->geopandas) (2021.1)\n",
      "Installing collected packages: munch, cligj, click-plugins, certifi, shapely, pyproj, fiona, geopandas\n",
      "Successfully installed certifi-2021.10.8 click-plugins-1.1.1 cligj-0.7.2 fiona-1.8.21 geopandas-0.10.2 munch-2.5.0 pyproj-3.3.1 shapely-1.8.2\n",
      "\u001b[33mWARNING: You are using pip version 21.1.1; however, version 22.1 is available.\n",
      "You should consider upgrading via the '/Users/sanjaykrishnan/Documents/cmsc13600-public/venv/bin/python -m pip install --upgrade pip' command.\u001b[0m\n"
     ]
    }
   ],
   "source": [
    "!pip install geopandas"
   ]
  },
  {
   "cell_type": "code",
   "execution_count": 54,
   "metadata": {},
   "outputs": [],
   "source": [
    "import geopandas as gpd"
   ]
  },
  {
   "cell_type": "code",
   "execution_count": 59,
   "metadata": {},
   "outputs": [],
   "source": [
    "gdf = gpd.read_file('taxi-zones/geo_export_8fa447e4-1d62-4164-9635-24c69774a066.shp')"
   ]
  },
  {
   "cell_type": "code",
   "execution_count": 64,
   "metadata": {},
   "outputs": [
    {
     "data": {
      "text/plain": [
       "Text(79.10090243552189, 0.5, 'Latitude')"
      ]
     },
     "execution_count": 64,
     "metadata": {},
     "output_type": "execute_result"
    },
    {
     "data": {
      "image/png": "[encoded data removed]",
      "text/plain": [
       "<Figure size 432x288 with 1 Axes>"
      ]
     },
     "metadata": {
      "needs_background": "light"
     },
     "output_type": "display_data"
    }
   ],
   "source": [
    "ax = gdf.plot(color='green')\n",
    "ax.set_xlabel('Longitude')\n",
    "ax.set_ylabel('Latitude')"
   ]
  },
  {
   "cell_type": "code",
   "execution_count": 132,
   "metadata": {},
   "outputs": [],
   "source": [
    "pickup_loc = df.groupby('PULocationID').count().compute()"
   ]
  },
  {
   "cell_type": "code",
   "execution_count": 133,
   "metadata": {},
   "outputs": [],
   "source": [
    "pickup_loc = pickup_loc.reset_index()"
   ]
  },
  {
   "cell_type": "code",
   "execution_count": 134,
   "metadata": {},
   "outputs": [],
   "source": [
    "gdf['location_i'] = gdf['location_i'].apply(int)"
   ]
  },
  {
   "cell_type": "code",
   "execution_count": 135,
   "metadata": {},
   "outputs": [],
   "source": [
    "gdf = gdf.merge(pickup_loc, left_on=['location_i'], right_on=['PULocationID'])"
   ]
  },
  {
   "cell_type": "code",
   "execution_count": 136,
   "metadata": {},
   "outputs": [
    {
     "data": {
      "text/plain": [
       "Text(70.36680487104383, 0.5, 'Latitude')"
      ]
     },
     "execution_count": 136,
     "metadata": {},
     "output_type": "execute_result"
    },
    {
     "data": {
      "image/png": "[encoded data removed]",
      "text/plain": [
       "<Figure size 432x288 with 2 Axes>"
      ]
     },
     "metadata": {
      "needs_background": "light"
     },
     "output_type": "display_data"
    }
   ],
   "source": [
    "ax = gdf.plot(column='hvfhs_license_num', legend=True, cmap='OrRd', legend_kwds={'label': \"Number of Pickups\"})\n",
    "ax.set_xlabel('Longitude')\n",
    "ax.set_ylabel('Latitude')"
   ]
  },
  {
   "cell_type": "code",
   "execution_count": 137,
   "metadata": {},
   "outputs": [
    {
     "data": {
      "text/plain": [
       "Text(70.36680487104383, 0.5, 'Latitude')"
      ]
     },
     "execution_count": 137,
     "metadata": {},
     "output_type": "execute_result"
    },
    {
     "data": {
      "image/png": "[encoded data removed]",
      "text/plain": [
       "<Figure size 432x288 with 2 Axes>"
      ]
     },
     "metadata": {
      "needs_background": "light"
     },
     "output_type": "display_data"
    }
   ],
   "source": [
    "dropoff_loc = df.groupby('DOLocationID').count().compute()\n",
    "dropoff_loc = dropoff_loc.reset_index()\n",
    "gdf = gpd.read_file('taxi-zones/geo_export_8fa447e4-1d62-4164-9635-24c69774a066.shp')\n",
    "gdf = gdf.merge(dropoff_loc, left_on=['location_i'], right_on=['DOLocationID'])\n",
    "\n",
    "ax = gdf.plot(column='hvfhs_license_num', legend=True, cmap='OrRd', legend_kwds={'label': \"Number of Dropoffs\"})\n",
    "ax.set_xlabel('Longitude')\n",
    "ax.set_ylabel('Latitude')"
   ]
  },
  {
   "cell_type": "code",
   "execution_count": 143,
   "metadata": {},
   "outputs": [],
   "source": [
    "avg_trip_duration = df.groupby('PULocationID')['difference_seconds'].mean().compute()\n",
    "avg_trip_duration = avg_trip_duration.reset_index()"
   ]
  },
  {
   "cell_type": "code",
   "execution_count": 144,
   "metadata": {},
   "outputs": [
    {
     "data": {
      "text/plain": [
       "Text(70.36680487104383, 0.5, 'Latitude')"
      ]
     },
     "execution_count": 144,
     "metadata": {},
     "output_type": "execute_result"
    },
    {
     "data": {
      "image/png": "[encoded data removed]",
      "text/plain": [
       "<Figure size 432x288 with 2 Axes>"
      ]
     },
     "metadata": {
      "needs_background": "light"
     },
     "output_type": "display_data"
    }
   ],
   "source": [
    "gdf = gpd.read_file('taxi-zones/geo_export_8fa447e4-1d62-4164-9635-24c69774a066.shp')\n",
    "gdf = gdf.merge(avg_trip_duration, left_on=['location_i'], right_on=['PULocationID'])\n",
    "\n",
    "ax = gdf.plot(column='difference_seconds', legend=True, cmap='OrRd', legend_kwds={'label': \"Trip Duration (s)\"})\n",
    "ax.set_xlabel('Longitude')\n",
    "ax.set_ylabel('Latitude')"
   ]
  },
  {
   "cell_type": "code",
   "execution_count": 190,
   "metadata": {},
   "outputs": [],
   "source": [
    "march_only = df.loc[df['pickup_datetime'].str.contains('2020-03')].compute()"
   ]
  },
  {
   "cell_type": "code",
   "execution_count": 205,
   "metadata": {},
   "outputs": [],
   "source": [
    "import pandas as pd\n",
    "after_pandemic = march_only.loc[march_only['pickup_datetime_py'].ge(pd.Timestamp(2020, 3, 20))]\n",
    "before_pandemic = march_only[march_only['pickup_datetime_py'].lt(pd.Timestamp(2020, 3, 20))]"
   ]
  },
  {
   "cell_type": "code",
   "execution_count": 207,
   "metadata": {},
   "outputs": [
    {
     "data": {
      "text/plain": [
       "Text(70.36680487104383, 0.5, 'Latitude')"
      ]
     },
     "execution_count": 207,
     "metadata": {},
     "output_type": "execute_result"
    },
    {
     "data": {
      "image/png": "[encoded data removed]",
      "text/plain": [
       "<Figure size 432x288 with 2 Axes>"
      ]
     },
     "metadata": {
      "needs_background": "light"
     },
     "output_type": "display_data"
    }
   ],
   "source": [
    "gdf = gpd.read_file('taxi-zones/geo_export_8fa447e4-1d62-4164-9635-24c69774a066.shp')\n",
    "\n",
    "pickup_loc = before_pandemic.groupby('PULocationID').count()\n",
    "pickup_loc = pickup_loc.reset_index()\n",
    "gdf['location_i'] = gdf['location_i'].apply(int)\n",
    "gdf = gdf.merge(pickup_loc, left_on=['location_i'], right_on=['PULocationID'])\n",
    "\n",
    "ax = gdf.plot(column='hvfhs_license_num', legend=True, cmap='OrRd', legend_kwds={'label': \"Number of Pickups\"})\n",
    "ax.set_xlabel('Longitude')\n",
    "ax.set_ylabel('Latitude')"
   ]
  },
  {
   "cell_type": "code",
   "execution_count": 215,
   "metadata": {},
   "outputs": [
    {
     "data": {
      "text/plain": [
       "Text(70.36680487104383, 0.5, 'Latitude')"
      ]
     },
     "execution_count": 215,
     "metadata": {},
     "output_type": "execute_result"
    },
    {
     "data": {
      "image/png": "[encoded data removed]",
      "text/plain": [
       "<Figure size 432x288 with 2 Axes>"
      ]
     },
     "metadata": {
      "needs_background": "light"
     },
     "output_type": "display_data"
    }
   ],
   "source": [
    "gdf = gpd.read_file('taxi-zones/geo_export_8fa447e4-1d62-4164-9635-24c69774a066.shp')\n",
    "\n",
    "pickup_loc = after_pandemic.groupby('PULocationID').count()\n",
    "pickup_loc = pickup_loc.reset_index()\n",
    "gdf['location_i'] = gdf['location_i'].apply(int)\n",
    "gdf = gdf.merge(pickup_loc, left_on=['location_i'], right_on=['PULocationID'])\n",
    "\n",
    "ax = gdf.plot(column='hvfhs_license_num', legend=True, cmap='OrRd', legend_kwds={'label': \"Number of Pickups\"})\n",
    "ax.set_xlabel('Longitude')\n",
    "ax.set_ylabel('Latitude')"
   ]
  },
  {
   "cell_type": "code",
   "execution_count": 222,
   "metadata": {},
   "outputs": [],
   "source": [
    "pickup_loc_1 = before_pandemic.groupby('PULocationID').count()\n",
    "pickup_loc_1 = pickup_loc_1.reset_index()\n",
    "\n",
    "pickup_loc_2 = after_pandemic.groupby('PULocationID').count()\n",
    "pickup_loc_2 = pickup_loc_2.reset_index()\n",
    "\n",
    "out = pickup_loc_1.merge(pickup_loc_2, on='PULocationID')\n",
    "\n",
    "out['difference'] = 100*(out['hvfhs_license_num_x'] - out['hvfhs_license_num_y'])/out['hvfhs_license_num_x']"
   ]
  },
  {
   "cell_type": "code",
   "execution_count": 227,
   "metadata": {},
   "outputs": [
    {
     "data": {
      "text/plain": [
       "Text(70.36680487104383, 0.5, 'Latitude')"
      ]
     },
     "execution_count": 227,
     "metadata": {},
     "output_type": "execute_result"
    },
    {
     "data": {
      "image/png": "[encoded data removed]",
      "text/plain": [
       "<Figure size 432x288 with 2 Axes>"
      ]
     },
     "metadata": {
      "needs_background": "light"
     },
     "output_type": "display_data"
    }
   ],
   "source": [
    "gdf = gpd.read_file('taxi-zones/geo_export_8fa447e4-1d62-4164-9635-24c69774a066.shp')\n",
    "\n",
    "gdf['location_i'] = gdf['location_i'].apply(int)\n",
    "gdf = gdf.merge(out, left_on=['location_i'], right_on=['PULocationID'])\n",
    "\n",
    "ax = gdf.plot(column='difference', legend=True, cmap='Purples', legend_kwds={'label': \"% Reduction in Pickups\"}, vmin=0, vmax=100)\n",
    "ax.set_xlabel('Longitude')\n",
    "ax.set_ylabel('Latitude')\n"
   ]
  },
  {
   "cell_type": "code",
   "execution_count": 228,
   "metadata": {},
   "outputs": [
    {
     "name": "stderr",
     "output_type": "stream",
     "text": [
      "/Users/sanjaykrishnan/Documents/cmsc13600-public/venv/lib/python3.9/site-packages/IPython/core/interactiveshell.py:3169: DtypeWarning: Columns (19,20) have mixed types.Specify dtype option on import or set low_memory=False.\n",
      "  has_raised = await self.run_ast_nodes(code_ast.body, cell_name,\n"
     ]
    }
   ],
   "source": [
    "businesses = pd.read_csv('/Users/sanjaykrishnan/Downloads/Legally_Operating_Businesses.csv')"
   ]
  },
  {
   "cell_type": "code",
   "execution_count": 229,
   "metadata": {},
   "outputs": [
    {
     "data": {
      "text/html": [
       "<div>\n",
       "<style scoped>\n",
       "    .dataframe tbody tr th:only-of-type {\n",
       "        vertical-align: middle;\n",
       "    }\n",
       "\n",
       "    .dataframe tbody tr th {\n",
       "        vertical-align: top;\n",
       "    }\n",
       "\n",
       "    .dataframe thead th {\n",
       "        text-align: right;\n",
       "    }\n",
       "</style>\n",
       "<table border=\"1\" class=\"dataframe\">\n",
       "  <thead>\n",
       "    <tr style=\"text-align: right;\">\n",
       "      <th></th>\n",
       "      <th>DCA License Number</th>\n",
       "      <th>License Type</th>\n",
       "      <th>License Expiration Date</th>\n",
       "      <th>License Status</th>\n",
       "      <th>License Creation Date</th>\n",
       "      <th>Industry</th>\n",
       "      <th>Business Name</th>\n",
       "      <th>Business Name 2</th>\n",
       "      <th>Address Building</th>\n",
       "      <th>Address Street Name</th>\n",
       "      <th>...</th>\n",
       "      <th>Community Board</th>\n",
       "      <th>Council District</th>\n",
       "      <th>BIN</th>\n",
       "      <th>BBL</th>\n",
       "      <th>NTA</th>\n",
       "      <th>Census Tract</th>\n",
       "      <th>Detail</th>\n",
       "      <th>Longitude</th>\n",
       "      <th>Latitude</th>\n",
       "      <th>Location</th>\n",
       "    </tr>\n",
       "  </thead>\n",
       "  <tbody>\n",
       "    <tr>\n",
       "      <th>0</th>\n",
       "      <td>0967332-DCA</td>\n",
       "      <td>Business</td>\n",
       "      <td>02/28/2017</td>\n",
       "      <td>Inactive</td>\n",
       "      <td>02/04/2010</td>\n",
       "      <td>Home Improvement Contractor</td>\n",
       "      <td>BARBARINO, JOHN JR.</td>\n",
       "      <td>JOHN BARBARINO JR_HOME IMPROVEMENT</td>\n",
       "      <td>239</td>\n",
       "      <td>MEDFORD CT</td>\n",
       "      <td>...</td>\n",
       "      <td>NaN</td>\n",
       "      <td>NaN</td>\n",
       "      <td>NaN</td>\n",
       "      <td>NaN</td>\n",
       "      <td>NaN</td>\n",
       "      <td>NaN</td>\n",
       "      <td>NaN</td>\n",
       "      <td>NaN</td>\n",
       "      <td>NaN</td>\n",
       "      <td>NaN</td>\n",
       "    </tr>\n",
       "    <tr>\n",
       "      <th>1</th>\n",
       "      <td>1057563-DCA</td>\n",
       "      <td>Business</td>\n",
       "      <td>02/28/2023</td>\n",
       "      <td>Active</td>\n",
       "      <td>07/27/2000</td>\n",
       "      <td>Home Improvement Contractor</td>\n",
       "      <td>HITE CONSTRUCTION, INC.</td>\n",
       "      <td>NaN</td>\n",
       "      <td>60</td>\n",
       "      <td>WHITNEY RD</td>\n",
       "      <td>...</td>\n",
       "      <td>NaN</td>\n",
       "      <td>NaN</td>\n",
       "      <td>NaN</td>\n",
       "      <td>NaN</td>\n",
       "      <td>NaN</td>\n",
       "      <td>NaN</td>\n",
       "      <td>NaN</td>\n",
       "      <td>NaN</td>\n",
       "      <td>NaN</td>\n",
       "      <td>NaN</td>\n",
       "    </tr>\n",
       "    <tr>\n",
       "      <th>2</th>\n",
       "      <td>1314030-DCA</td>\n",
       "      <td>Business</td>\n",
       "      <td>01/31/2019</td>\n",
       "      <td>Inactive</td>\n",
       "      <td>04/10/2009</td>\n",
       "      <td>Debt Collection Agency</td>\n",
       "      <td>DYNAMIC RECOVERY SOLUTIONS LLC</td>\n",
       "      <td>NaN</td>\n",
       "      <td>135</td>\n",
       "      <td>INTERSTATE BLVD</td>\n",
       "      <td>...</td>\n",
       "      <td>NaN</td>\n",
       "      <td>NaN</td>\n",
       "      <td>NaN</td>\n",
       "      <td>NaN</td>\n",
       "      <td>NaN</td>\n",
       "      <td>NaN</td>\n",
       "      <td>NaN</td>\n",
       "      <td>NaN</td>\n",
       "      <td>NaN</td>\n",
       "      <td>NaN</td>\n",
       "    </tr>\n",
       "    <tr>\n",
       "      <th>3</th>\n",
       "      <td>1245882-DCA</td>\n",
       "      <td>Business</td>\n",
       "      <td>06/30/2022</td>\n",
       "      <td>Active</td>\n",
       "      <td>01/02/2007</td>\n",
       "      <td>Electronic &amp; Appliance Service</td>\n",
       "      <td>DELTA ELECTRONICS, INC.</td>\n",
       "      <td>NaN</td>\n",
       "      <td>3108</td>\n",
       "      <td>E TREMONT AVE</td>\n",
       "      <td>...</td>\n",
       "      <td>210.0</td>\n",
       "      <td>13.0</td>\n",
       "      <td>2073584.0</td>\n",
       "      <td>2053500039</td>\n",
       "      <td>NaN</td>\n",
       "      <td>NaN</td>\n",
       "      <td>NaN</td>\n",
       "      <td>-73.835446</td>\n",
       "      <td>40.838469</td>\n",
       "      <td>(40.838469099008464, -73.83544554039032)</td>\n",
       "    </tr>\n",
       "    <tr>\n",
       "      <th>4</th>\n",
       "      <td>2029953-DCA</td>\n",
       "      <td>Individual</td>\n",
       "      <td>10/31/2016</td>\n",
       "      <td>Inactive</td>\n",
       "      <td>10/29/2015</td>\n",
       "      <td>Tow Truck Driver</td>\n",
       "      <td>Rodriguez, Juan</td>\n",
       "      <td>NaN</td>\n",
       "      <td>NaN</td>\n",
       "      <td>NaN</td>\n",
       "      <td>...</td>\n",
       "      <td>NaN</td>\n",
       "      <td>NaN</td>\n",
       "      <td>NaN</td>\n",
       "      <td>NaN</td>\n",
       "      <td>NaN</td>\n",
       "      <td>NaN</td>\n",
       "      <td>NaN</td>\n",
       "      <td>NaN</td>\n",
       "      <td>NaN</td>\n",
       "      <td>NaN</td>\n",
       "    </tr>\n",
       "  </tbody>\n",
       "</table>\n",
       "<p>5 rows × 27 columns</p>\n",
       "</div>"
      ],
      "text/plain": [
       "  DCA License Number License Type License Expiration Date License Status  \\\n",
       "0        0967332-DCA     Business              02/28/2017       Inactive   \n",
       "1        1057563-DCA     Business              02/28/2023         Active   \n",
       "2        1314030-DCA     Business              01/31/2019       Inactive   \n",
       "3        1245882-DCA     Business              06/30/2022         Active   \n",
       "4        2029953-DCA   Individual              10/31/2016       Inactive   \n",
       "\n",
       "  License Creation Date                        Industry  \\\n",
       "0            02/04/2010     Home Improvement Contractor   \n",
       "1            07/27/2000     Home Improvement Contractor   \n",
       "2            04/10/2009          Debt Collection Agency   \n",
       "3            01/02/2007  Electronic & Appliance Service   \n",
       "4            10/29/2015                Tow Truck Driver   \n",
       "\n",
       "                    Business Name                     Business Name 2  \\\n",
       "0             BARBARINO, JOHN JR.  JOHN BARBARINO JR_HOME IMPROVEMENT   \n",
       "1         HITE CONSTRUCTION, INC.                                 NaN   \n",
       "2  DYNAMIC RECOVERY SOLUTIONS LLC                                 NaN   \n",
       "3         DELTA ELECTRONICS, INC.                                 NaN   \n",
       "4                 Rodriguez, Juan                                 NaN   \n",
       "\n",
       "  Address Building Address Street Name  ... Community Board Council District  \\\n",
       "0              239          MEDFORD CT  ...             NaN              NaN   \n",
       "1               60          WHITNEY RD  ...             NaN              NaN   \n",
       "2              135     INTERSTATE BLVD  ...             NaN              NaN   \n",
       "3             3108       E TREMONT AVE  ...           210.0             13.0   \n",
       "4              NaN                 NaN  ...             NaN              NaN   \n",
       "\n",
       "         BIN         BBL  NTA Census Tract  Detail  Longitude   Latitude  \\\n",
       "0        NaN         NaN  NaN          NaN     NaN        NaN        NaN   \n",
       "1        NaN         NaN  NaN          NaN     NaN        NaN        NaN   \n",
       "2        NaN         NaN  NaN          NaN     NaN        NaN        NaN   \n",
       "3  2073584.0  2053500039  NaN          NaN     NaN -73.835446  40.838469   \n",
       "4        NaN         NaN  NaN          NaN     NaN        NaN        NaN   \n",
       "\n",
       "                                   Location  \n",
       "0                                       NaN  \n",
       "1                                       NaN  \n",
       "2                                       NaN  \n",
       "3  (40.838469099008464, -73.83544554039032)  \n",
       "4                                       NaN  \n",
       "\n",
       "[5 rows x 27 columns]"
      ]
     },
     "execution_count": 229,
     "metadata": {},
     "output_type": "execute_result"
    }
   ],
   "source": [
    "businesses.head()"
   ]
  },
  {
   "cell_type": "code",
   "execution_count": null,
   "metadata": {},
   "outputs": [],
   "source": []
  }
 ],
 "metadata": {
  "kernelspec": {
   "display_name": "Python 3",
   "language": "python",
   "name": "python3"
  },
  "language_info": {
   "codemirror_mode": {
    "name": "ipython",
    "version": 3
   },
   "file_extension": ".py",
   "mimetype": "text/x-python",
   "name": "python",
   "nbconvert_exporter": "python",
   "pygments_lexer": "ipython3",
   "version": "3.9.4"
  }
 },
 "nbformat": 4,
 "nbformat_minor": 4
}
